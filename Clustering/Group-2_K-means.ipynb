{
 "cells": [
  {
   "cell_type": "code",
   "execution_count": 5,
   "metadata": {
    "ExecuteTime": {
     "end_time": "2019-12-07T04:54:19.105919Z",
     "start_time": "2019-12-07T04:54:19.074874Z"
    }
   },
   "outputs": [],
   "source": [
    "import nltk\n",
    "from nltk.tokenize import word_tokenize, sent_tokenize\n",
    "import gensim\n",
    "from gensim.utils import simple_preprocess\n",
    "from smart_open import smart_open\n",
    "# nltk.download('stopwords')  # run once\n",
    "from nltk.corpus import stopwords\n",
    "# stop_words = stopwords.words('english')\n",
    "from gensim import corpora\n",
    "from pprint import pprint\n",
    "from pyclustering.cluster.kmedians import kmedians\n",
    "from pyclustering.cluster import cluster_visualizer\n",
    "from pyclustering.utils import read_sample\n",
    "from pyclustering.samples.definitions import FCPS_SAMPLES\n",
    "# from jupyterthemes import jtplot\n",
    "# jtplot.style(theme='monokai', context='notebook',\n",
    "#              ticks=True, grid=False)\n",
    "import math\n",
    "import numpy as np\n",
    "from sklearn import datasets\n",
    "from sklearn.preprocessing import normalize\n",
    "import matplotlib.pyplot as plt\n",
    "import seaborn as sns\n",
    "# from jupyterthemes import jtplot\n",
    "import operator\n",
    "import pandas as pd\n",
    "# nltk.download('punkt')\n",
    "# jtplot.style(theme='monokai', context='notebook',\n",
    "#              ticks=True, grid=False)\n",
    "from sklearn.cluster import KMeans\n",
    "from sklearn.metrics import silhouette_samples, silhouette_score\n",
    "\n",
    "import matplotlib.pyplot as plt\n",
    "import matplotlib.cm as cm\n",
    "import numpy as np"
   ]
  },
  {
   "cell_type": "code",
   "execution_count": 3,
   "metadata": {
    "ExecuteTime": {
     "end_time": "2019-12-07T04:54:02.587135Z",
     "start_time": "2019-12-07T04:54:02.524404Z"
    }
   },
   "outputs": [],
   "source": [
    "df= pd.read_csv(\"final_clustering_df.csv\")\n",
    "X = np.asarray(df.iloc[:,[1,2]])"
   ]
  },
  {
   "cell_type": "code",
   "execution_count": 27,
   "metadata": {
    "ExecuteTime": {
     "end_time": "2019-12-07T00:13:11.561907Z",
     "start_time": "2019-12-07T00:13:11.530657Z"
    }
   },
   "outputs": [],
   "source": [
    "\n",
    "def random_medians(dat, num_clusters):    #Function to generate random medians\n",
    "    index = np.random.randint(0, (len(dat)-1), size=num_clusters)\n",
    "    points = dat[index]\n",
    "    return points\n",
    "\n",
    "def euclidean_distance(dat, rand_medians):  #Used to calculate a euclidean distance between the medians and the observations \n",
    "    X = dat\n",
    "    dist_list = []\n",
    "    for i in range(len(rand_medians)):\n",
    "        summation = np.sum((X-rand_medians[i])**2, axis=1)\n",
    "        dist_list.append(np.sqrt(summation))\n",
    "    dist_list = np.asarray(dist_list)\n",
    "    return (dist_list)\n",
    "\n",
    "def euclidean_distance_word(dat, rand_medians,word_sim): #used to calculate euclidean distance + similarity between observations \n",
    "    dist_list = []\n",
    "    for i in range(len(rand_medians)):\n",
    "        summation = np.sum((X-rand_medians[i])**2, axis=1)\n",
    "        summation = normalize(summation.reshape(-1,1)) #euclidean distance is normalized to help converge with the word similarity score\n",
    "        summation = summation + (1-word_sim).reshape(-1,1) #1-similarity is done to make the similarity matrix into a ditance matrix\n",
    "#         summation = word_sim\n",
    "        dist_list.append(np.sqrt(summation))\n",
    "    dist_list = np.asarray(dist_list)\n",
    "    return (dist_list)\n",
    "\n",
    "def assign_obsto_clusters(dat, dist_list): #compares observations and identifies which cluster is it closest to\n",
    "    clusters = []\n",
    "    assigned_clusters = np.argmin(dist_list, axis=0)\n",
    "    for i in range(len(dist_list)):\n",
    "        clusters.append(dat[assigned_clusters == i])\n",
    "#     clusters = np.asarray(clusters)\n",
    "    return (clusters)\n",
    "\n",
    "def centroid_cal(assigned_clusters):\n",
    "    centroid = []\n",
    "    for i in range(len(assigned_clusters)):\n",
    "        clust= assigned_clusters[i]\n",
    "        x,y = np.mean(clust[:,0]) , np.mean(clust[:,1])\n",
    "        centroid.append((x,y))\n",
    "    centroid = np.asarray(centroid)\n",
    "    return (centroid)\n",
    "\n",
    "def clust_index_find (assigned_clusters,data): #indexes retrieval of observations in the cluster\n",
    "    clust_index=[]\n",
    "    X = data\n",
    "    for i in range(len(assigned_clusters)):\n",
    "        values = np.where((X==assigned_clusters[i][:,None]).all(-1))[1]\n",
    "        clust_index.append(values)\n",
    "    return (clust_index)\n",
    "        \n",
    "def plot_clusters(assigned_clusters,centroid_old):\n",
    "    color = ['b', 'g', 'r', 'c', 'm', 'y', 'k', 'w']\n",
    "    for i in range(len(assigned_clusters)):\n",
    "        clust = assigned_clusters[i]\n",
    "        plt.scatter(clust[:,0],clust[:,1],color=RS[i])\n",
    "        plt.scatter(centroid_old[i,0],centroid_old[i,1],color=color[i],\n",
    "                    label=i, marker='p', s=100, edgecolor='k')\n",
    "    plt.show()\n",
    "\n",
    "def sse_calc(data,indexes): #calculation of Total SSE\n",
    "    df = data\n",
    "    index1 = indexes\n",
    "    index_list = []\n",
    "    for i in range(len(index1)):\n",
    "        index_list.append(np.asarray(df.iloc[index1[i],[1,2]]))\n",
    "    centers = centroid_cal(index_list)\n",
    "    sse_list=[]\n",
    "    for i in range(len(index1)):\n",
    "        sse_list.append(np.sum(np.sum((centers[i]-index_list[i])**2,axis=1)))\n",
    "    return (np.sum(sse_list))\n",
    "\n",
    "\n",
    "def k_median(data,nc): #compilation of K-median\n",
    "    X=data\n",
    "    rand_medians = random_medians(X,num_clusters=nc)\n",
    "    centroid_old = rand_medians\n",
    "    dist_array = euclidean_distance(X,rand_medians)\n",
    "    assigned_clusters = assign_obsto_clusters(X,dist_array)\n",
    "    clust_index = clust_index_find(assigned_clusters,X)\n",
    "    centroids = centroid_cal(assigned_clusters)\n",
    "    i=1\n",
    "    while(np.any(centroid_old != centroids)):\n",
    "        centroid_old = centroids\n",
    "        dist_array = euclidean_distance(X,centroid_old)\n",
    "        assigned_clusters = assign_obsto_clusters(X,dist_array)\n",
    "        clust_index = clust_index_find(assigned_clusters,X)\n",
    "        centroids = centroid_cal(assigned_clusters)\n",
    "        i=i+1        \n",
    "#         print (\"old=\",centroid_old ,\"new=\",centroids)\n",
    "    return (clust_index)\n",
    "\n",
    "def similar_prod(item,no_item,data): #gives results for similar products for the requested product from the clusters\n",
    "    user = []\n",
    "    X = np.asarray(data.iloc[:,[1,2]])\n",
    "    user.append(X[item])\n",
    "    wordsim = word_sim_calc(data,item)\n",
    "    dist_array = euclidean_distance_word(X,user,wordsim)\n",
    "    dict = { i : dist_array[:,i] for i in range(0, dist_array.shape[1] ) }\n",
    "    sorted_dict = sorted(dict.items(), key=operator.itemgetter(1))\n",
    "    similar_prod_index = sorted_dict[0:(no_item+1)]\n",
    "    return (df.iloc[np.asarray(similar_prod_index)[:,0]])"
   ]
  },
  {
   "cell_type": "code",
   "execution_count": 12,
   "metadata": {
    "ExecuteTime": {
     "end_time": "2019-12-06T23:59:20.433948Z",
     "start_time": "2019-12-06T23:59:20.418291Z"
    }
   },
   "outputs": [],
   "source": [
    "def word_sim_calc(df,item): # calculation of word vectors\n",
    "    file_docs = []\n",
    "    for i in range(len(df)):\n",
    "        tokens = sent_tokenize(df['Names'][i])\n",
    "        file_docs.append(tokens)\n",
    "    mydict = corpora.Dictionary([simple_preprocess((\" \".join(line))) for line in file_docs]) #making dictionary from the document\n",
    "    corpus = [mydict.doc2bow(simple_preprocess((\" \".join(line)))) for line in file_docs]\n",
    "    tfidf = gensim.models.TfidfModel(corpus) #generation of TFIDF vector\n",
    "\n",
    "    workdir = r'C:\\Users\\potd0000\\\\OneDrive - University of Oklahoma\\Subjects\\Data Mining\\Project\\ '\n",
    "    sims = gensim.similarities.Similarity(workdir,tfidf[corpus],num_features=len(mydict)) #word similarity matrix\n",
    "    query_doc_tf_idf = tfidf[corpus[item]]\n",
    "\n",
    "    word_sim = sims[query_doc_tf_idf] \n",
    "    return (word_sim)"
   ]
  },
  {
   "cell_type": "code",
   "execution_count": 14,
   "metadata": {
    "ExecuteTime": {
     "end_time": "2019-12-04T22:03:25.350954Z",
     "start_time": "2019-12-04T22:03:14.592545Z"
    },
    "scrolled": true
   },
   "outputs": [
    {
     "name": "stdout",
     "output_type": "stream",
     "text": [
      "Select product index : 52\n",
      "Select no of similar products : 5\n"
     ]
    },
    {
     "data": {
      "text/html": [
       "<div>\n",
       "<style scoped>\n",
       "    .dataframe tbody tr th:only-of-type {\n",
       "        vertical-align: middle;\n",
       "    }\n",
       "\n",
       "    .dataframe tbody tr th {\n",
       "        vertical-align: top;\n",
       "    }\n",
       "\n",
       "    .dataframe thead th {\n",
       "        text-align: right;\n",
       "    }\n",
       "</style>\n",
       "<table border=\"1\" class=\"dataframe\">\n",
       "  <thead>\n",
       "    <tr style=\"text-align: right;\">\n",
       "      <th></th>\n",
       "      <th>Names</th>\n",
       "      <th>Price</th>\n",
       "      <th>Rating</th>\n",
       "    </tr>\n",
       "  </thead>\n",
       "  <tbody>\n",
       "    <tr>\n",
       "      <td>52</td>\n",
       "      <td>Spider-Man Colouring Fun</td>\n",
       "      <td>21.741747</td>\n",
       "      <td>0.0</td>\n",
       "    </tr>\n",
       "    <tr>\n",
       "      <td>2947</td>\n",
       "      <td>LEGO Juniors 10665: Spider-Man Spider-Car Pursuit</td>\n",
       "      <td>21.741747</td>\n",
       "      <td>0.0</td>\n",
       "    </tr>\n",
       "    <tr>\n",
       "      <td>19092</td>\n",
       "      <td>Nendoroid - The Amazing Spider-Man: Spider-Man...</td>\n",
       "      <td>21.741747</td>\n",
       "      <td>0.0</td>\n",
       "    </tr>\n",
       "    <tr>\n",
       "      <td>8241</td>\n",
       "      <td>Hot Wheels Amazing Spider-Man 2 Diecast Car - ...</td>\n",
       "      <td>21.741747</td>\n",
       "      <td>0.0</td>\n",
       "    </tr>\n",
       "    <tr>\n",
       "      <td>1022</td>\n",
       "      <td>Hot Wheels Amazing Spider-Man 2 Diecast Car - ...</td>\n",
       "      <td>21.741747</td>\n",
       "      <td>0.0</td>\n",
       "    </tr>\n",
       "    <tr>\n",
       "      <td>16955</td>\n",
       "      <td>Procos 81531- \"Happy Birthday\" Ultimate Spider...</td>\n",
       "      <td>21.741747</td>\n",
       "      <td>0.0</td>\n",
       "    </tr>\n",
       "  </tbody>\n",
       "</table>\n",
       "</div>"
      ],
      "text/plain": [
       "                                                   Names      Price  Rating\n",
       "52                              Spider-Man Colouring Fun  21.741747     0.0\n",
       "2947   LEGO Juniors 10665: Spider-Man Spider-Car Pursuit  21.741747     0.0\n",
       "19092  Nendoroid - The Amazing Spider-Man: Spider-Man...  21.741747     0.0\n",
       "8241   Hot Wheels Amazing Spider-Man 2 Diecast Car - ...  21.741747     0.0\n",
       "1022   Hot Wheels Amazing Spider-Man 2 Diecast Car - ...  21.741747     0.0\n",
       "16955  Procos 81531- \"Happy Birthday\" Ultimate Spider...  21.741747     0.0"
      ]
     },
     "execution_count": 14,
     "metadata": {},
     "output_type": "execute_result"
    }
   ],
   "source": [
    "ind = int(input(\"Select product index : \") )\n",
    "num = int(input(\"Select no of similar products : \") )\n",
    "result = similar_prod(ind,num,df)\n",
    "result"
   ]
  },
  {
   "cell_type": "code",
   "execution_count": 41,
   "metadata": {
    "ExecuteTime": {
     "end_time": "2019-12-04T09:45:20.431254Z",
     "start_time": "2019-12-04T09:42:41.454547Z"
    },
    "collapsed": true
   },
   "outputs": [
    {
     "ename": "KeyboardInterrupt",
     "evalue": "",
     "output_type": "error",
     "traceback": [
      "\u001b[1;31m---------------------------------------------------------------------------\u001b[0m",
      "\u001b[1;31mKeyboardInterrupt\u001b[0m                         Traceback (most recent call last)",
      "\u001b[1;32m<ipython-input-41-651ce70f5dad>\u001b[0m in \u001b[0;36m<module>\u001b[1;34m\u001b[0m\n\u001b[1;32m----> 1\u001b[1;33m \u001b[0mindex\u001b[0m \u001b[1;33m=\u001b[0m \u001b[0mk_median\u001b[0m\u001b[1;33m(\u001b[0m\u001b[0mX\u001b[0m\u001b[1;33m,\u001b[0m\u001b[1;36m5\u001b[0m\u001b[1;33m)\u001b[0m\u001b[1;33m\u001b[0m\u001b[1;33m\u001b[0m\u001b[0m\n\u001b[0m\u001b[0;32m      2\u001b[0m \u001b[0mindex\u001b[0m\u001b[1;33m\u001b[0m\u001b[1;33m\u001b[0m\u001b[0m\n",
      "\u001b[1;32m<ipython-input-16-3d437e8db2a0>\u001b[0m in \u001b[0;36mk_median\u001b[1;34m(data, nc)\u001b[0m\n\u001b[0;32m     71\u001b[0m         \u001b[0mdist_array\u001b[0m \u001b[1;33m=\u001b[0m \u001b[0meuclidean_distance\u001b[0m\u001b[1;33m(\u001b[0m\u001b[0mX\u001b[0m\u001b[1;33m,\u001b[0m\u001b[0mcentroid_old\u001b[0m\u001b[1;33m)\u001b[0m\u001b[1;33m\u001b[0m\u001b[1;33m\u001b[0m\u001b[0m\n\u001b[0;32m     72\u001b[0m         \u001b[0massigned_clusters\u001b[0m \u001b[1;33m=\u001b[0m \u001b[0massign_obsto_clusters\u001b[0m\u001b[1;33m(\u001b[0m\u001b[0mX\u001b[0m\u001b[1;33m,\u001b[0m\u001b[0mdist_array\u001b[0m\u001b[1;33m)\u001b[0m\u001b[1;33m\u001b[0m\u001b[1;33m\u001b[0m\u001b[0m\n\u001b[1;32m---> 73\u001b[1;33m         \u001b[0mclust_index\u001b[0m \u001b[1;33m=\u001b[0m \u001b[0mclust_index_find\u001b[0m\u001b[1;33m(\u001b[0m\u001b[0massigned_clusters\u001b[0m\u001b[1;33m,\u001b[0m\u001b[0mX\u001b[0m\u001b[1;33m)\u001b[0m\u001b[1;33m\u001b[0m\u001b[1;33m\u001b[0m\u001b[0m\n\u001b[0m\u001b[0;32m     74\u001b[0m         \u001b[0mcentroids\u001b[0m \u001b[1;33m=\u001b[0m \u001b[0mcentroid_cal\u001b[0m\u001b[1;33m(\u001b[0m\u001b[0massigned_clusters\u001b[0m\u001b[1;33m)\u001b[0m\u001b[1;33m\u001b[0m\u001b[1;33m\u001b[0m\u001b[0m\n\u001b[0;32m     75\u001b[0m         \u001b[0mi\u001b[0m\u001b[1;33m=\u001b[0m\u001b[0mi\u001b[0m\u001b[1;33m+\u001b[0m\u001b[1;36m1\u001b[0m\u001b[1;33m\u001b[0m\u001b[1;33m\u001b[0m\u001b[0m\n",
      "\u001b[1;32m<ipython-input-16-3d437e8db2a0>\u001b[0m in \u001b[0;36mclust_index_find\u001b[1;34m(assigned_clusters, data)\u001b[0m\n\u001b[0;32m     45\u001b[0m     \u001b[0mX\u001b[0m \u001b[1;33m=\u001b[0m \u001b[0mdata\u001b[0m\u001b[1;33m\u001b[0m\u001b[1;33m\u001b[0m\u001b[0m\n\u001b[0;32m     46\u001b[0m     \u001b[1;32mfor\u001b[0m \u001b[0mi\u001b[0m \u001b[1;32min\u001b[0m \u001b[0mrange\u001b[0m\u001b[1;33m(\u001b[0m\u001b[0mlen\u001b[0m\u001b[1;33m(\u001b[0m\u001b[0massigned_clusters\u001b[0m\u001b[1;33m)\u001b[0m\u001b[1;33m)\u001b[0m\u001b[1;33m:\u001b[0m\u001b[1;33m\u001b[0m\u001b[1;33m\u001b[0m\u001b[0m\n\u001b[1;32m---> 47\u001b[1;33m         \u001b[0mvalues\u001b[0m \u001b[1;33m=\u001b[0m \u001b[0mnp\u001b[0m\u001b[1;33m.\u001b[0m\u001b[0mwhere\u001b[0m\u001b[1;33m(\u001b[0m\u001b[1;33m(\u001b[0m\u001b[0mX\u001b[0m\u001b[1;33m==\u001b[0m\u001b[0massigned_clusters\u001b[0m\u001b[1;33m[\u001b[0m\u001b[0mi\u001b[0m\u001b[1;33m]\u001b[0m\u001b[1;33m[\u001b[0m\u001b[1;33m:\u001b[0m\u001b[1;33m,\u001b[0m\u001b[1;32mNone\u001b[0m\u001b[1;33m]\u001b[0m\u001b[1;33m)\u001b[0m\u001b[1;33m.\u001b[0m\u001b[0mall\u001b[0m\u001b[1;33m(\u001b[0m\u001b[1;33m-\u001b[0m\u001b[1;36m1\u001b[0m\u001b[1;33m)\u001b[0m\u001b[1;33m)\u001b[0m\u001b[1;33m[\u001b[0m\u001b[1;36m1\u001b[0m\u001b[1;33m]\u001b[0m\u001b[1;33m\u001b[0m\u001b[1;33m\u001b[0m\u001b[0m\n\u001b[0m\u001b[0;32m     48\u001b[0m         \u001b[0mclust_index\u001b[0m\u001b[1;33m.\u001b[0m\u001b[0mappend\u001b[0m\u001b[1;33m(\u001b[0m\u001b[0mvalues\u001b[0m\u001b[1;33m)\u001b[0m\u001b[1;33m\u001b[0m\u001b[1;33m\u001b[0m\u001b[0m\n\u001b[0;32m     49\u001b[0m     \u001b[1;32mreturn\u001b[0m \u001b[1;33m(\u001b[0m\u001b[0mclust_index\u001b[0m\u001b[1;33m)\u001b[0m\u001b[1;33m\u001b[0m\u001b[1;33m\u001b[0m\u001b[0m\n",
      "\u001b[1;31mKeyboardInterrupt\u001b[0m: "
     ]
    }
   ],
   "source": [
    "index = k_median(X,5)\n",
    "index\n",
    "for i in range(5):\n",
    "    index1[i] = np.unique(index1[i])"
   ]
  },
  {
   "cell_type": "code",
   "execution_count": 36,
   "metadata": {
    "ExecuteTime": {
     "end_time": "2019-12-07T00:57:33.602363Z",
     "start_time": "2019-12-07T00:55:57.450837Z"
    },
    "scrolled": true
   },
   "outputs": [
    {
     "name": "stdout",
     "output_type": "stream",
     "text": [
      "[array([    1,     3,     6, ..., 20238, 20240, 20241], dtype=int64)\n",
      " array([    2,    22,    31, ..., 20232, 20233, 20237], dtype=int64)\n",
      " array([  103,   428,   516,   631,   663,   680,   714,   794,   936,\n",
      "        1390,  1853,  2779,  2898,  2965,  2980,  4097,  4274,  4400,\n",
      "        4598,  4657,  5042,  5950,  6512,  6553,  6959,  7443,  8156,\n",
      "        8257,  8447,  8660,  9250,  9380, 10018, 10175, 10895, 10913,\n",
      "       11252, 11802, 11881, 11924, 11964, 12009, 12193, 12458, 12465,\n",
      "       12763, 13030, 13187, 13797, 14225, 14450, 14770, 14843, 14906,\n",
      "       15577, 15596, 16386, 16778, 16813, 17279, 17549, 18492, 18838,\n",
      "       19002, 20086], dtype=int64)\n",
      " array([   68,   110,   111,   130,   149,   232,   246,   273,   323,\n",
      "         336,   341,   432,   444,   485,   493,   596,   618,   633,\n",
      "         641,   650,   676,   688,   803,   806,   821,   867,   876,\n",
      "         992,  1031,  1048,  1054,  1066,  1089,  1178,  1188,  1250,\n",
      "        1288,  1310,  1361,  1376,  1407,  1432,  1472,  1483,  1612,\n",
      "        1617,  1625,  1642,  1769,  1799,  1818,  1834,  1851,  1892,\n",
      "        1893,  1983,  2016,  2126,  2177,  2179,  2199,  2241,  2245,\n",
      "        2271,  2328,  2491,  2520,  2530,  2711,  2874,  2916,  3030,\n",
      "        3050,  3118,  3140,  3146,  3209,  3210,  3242,  3282,  3300,\n",
      "        3314,  3315,  3325,  3336,  3362,  3367,  3449,  3492,  3495,\n",
      "        3498,  3523,  3533,  3546,  3579,  3628,  3634,  3705,  3734,\n",
      "        3741,  3792,  3798,  3818,  3819,  3823,  3920,  3984,  3989,\n",
      "        4006,  4014,  4046,  4064,  4153,  4488,  4503,  4570,  4704,\n",
      "        4712,  4765,  4855,  4871,  4884,  4892,  4895,  4937,  4968,\n",
      "        4978,  4987,  5048,  5072,  5087,  5114,  5126,  5142,  5166,\n",
      "        5241,  5257,  5289,  5307,  5329,  5345,  5369,  5382,  5390,\n",
      "        5419,  5445,  5459,  5547,  5610,  5661,  5672,  5760,  5768,\n",
      "        5780,  5788,  5792,  5883,  5900,  5932,  6017,  6105,  6164,\n",
      "        6318,  6349,  6376,  6456,  6472,  6576,  6610,  6635,  6657,\n",
      "        6688,  6689,  6726,  6740,  6753,  6836,  6841,  6850,  6868,\n",
      "        6890,  6893,  6908,  6920,  6970,  6979,  7006,  7048,  7117,\n",
      "        7152,  7172,  7174,  7203,  7230,  7273,  7536,  7599,  7654,\n",
      "        7733,  7738,  7764,  7784,  7859,  7930,  7954,  8132,  8139,\n",
      "        8142,  8144,  8346,  8487,  8499,  8512,  8529,  8530,  8539,\n",
      "        8578,  8604,  8622,  8670,  8700,  8719,  8806,  8907,  8945,\n",
      "        8968,  8984,  9003,  9072,  9109,  9159,  9165,  9171,  9249,\n",
      "        9346,  9374,  9376,  9450,  9645,  9682,  9691,  9695,  9790,\n",
      "        9793,  9830,  9847,  9890,  9898,  9912,  9931,  9955,  9980,\n",
      "       10066, 10099, 10125, 10133, 10190, 10213, 10217, 10290, 10383,\n",
      "       10410, 10415, 10417, 10431, 10509, 10527, 10539, 10572, 10651,\n",
      "       10689, 10715, 10726, 10877, 10878, 10903, 10935, 10936, 10937,\n",
      "       10994, 11062, 11289, 11291, 11387, 11455, 11477, 11588, 11665,\n",
      "       11703, 11730, 11797, 11800, 11825, 11946, 12022, 12063, 12068,\n",
      "       12102, 12142, 12292, 12302, 12382, 12389, 12403, 12446, 12501,\n",
      "       12513, 12530, 12534, 12618, 12658, 12665, 12668, 12714, 12744,\n",
      "       12757, 12790, 12826, 12873, 12887, 12933, 13002, 13003, 13032,\n",
      "       13035, 13083, 13092, 13238, 13262, 13274, 13330, 13332, 13333,\n",
      "       13354, 13468, 13575, 13592, 13633, 13634, 13666, 13677, 13692,\n",
      "       13708, 13782, 13783, 13815, 13851, 13866, 13957, 13983, 14040,\n",
      "       14068, 14129, 14143, 14230, 14323, 14384, 14573, 14587, 14610,\n",
      "       14678, 14685, 14691, 14718, 14736, 14785, 14842, 14844, 14909,\n",
      "       14959, 14982, 15030, 15036, 15043, 15070, 15155, 15234, 15236,\n",
      "       15269, 15289, 15317, 15383, 15410, 15526, 15616, 15643, 15692,\n",
      "       15765, 15803, 15943, 16013, 16018, 16024, 16065, 16143, 16189,\n",
      "       16284, 16330, 16370, 16392, 16454, 16555, 16557, 16589, 16608,\n",
      "       16725, 16729, 16733, 16806, 16818, 16918, 16928, 16942, 17014,\n",
      "       17055, 17135, 17138, 17141, 17172, 17173, 17218, 17291, 17321,\n",
      "       17329, 17427, 17433, 17463, 17466, 17479, 17540, 17579, 17581,\n",
      "       17645, 17656, 17721, 17752, 17757, 17771, 17806, 17832, 17841,\n",
      "       17856, 17865, 17969, 18057, 18075, 18110, 18126, 18163, 18192,\n",
      "       18199, 18239, 18307, 18460, 18504, 18514, 18558, 18613, 18658,\n",
      "       18669, 18673, 18714, 18755, 18762, 18775, 18873, 18887, 18969,\n",
      "       18993, 19026, 19148, 19190, 19382, 19452, 19456, 19535, 19621,\n",
      "       19625, 19662, 19717, 19727, 19731, 19844, 19875, 19894, 19947,\n",
      "       20013, 20021, 20034, 20046, 20136, 20198, 20239], dtype=int64)\n",
      " array([    0,     4,     5, ..., 20221, 20235, 20236], dtype=int64)]\n"
     ]
    }
   ],
   "source": [
    "# X2 = X[0:100,:]\n",
    "index = k_mean(X,5)\n",
    "index1 = np.asarray(index)\n",
    "for i in range(5):\n",
    "    index1[i] = np.unique(index1[i])\n",
    "print (index1)"
   ]
  },
  {
   "cell_type": "code",
   "execution_count": 37,
   "metadata": {
    "ExecuteTime": {
     "end_time": "2019-12-07T00:57:41.287569Z",
     "start_time": "2019-12-07T00:57:41.271995Z"
    }
   },
   "outputs": [],
   "source": [
    "import pickle\n",
    "with open('cluster_result_mean', 'wb') as f:\n",
    "    pickle.dump(index1, f)"
   ]
  },
  {
   "cell_type": "code",
   "execution_count": 38,
   "metadata": {
    "ExecuteTime": {
     "end_time": "2019-12-07T00:57:42.271754Z",
     "start_time": "2019-12-07T00:57:42.240476Z"
    },
    "scrolled": true
   },
   "outputs": [
    {
     "data": {
      "text/plain": [
       "array([array([    1,     3,     6, ..., 20238, 20240, 20241], dtype=int64),\n",
       "       array([    2,    22,    31, ..., 20232, 20233, 20237], dtype=int64),\n",
       "       array([  103,   428,   516,   631,   663,   680,   714,   794,   936,\n",
       "        1390,  1853,  2779,  2898,  2965,  2980,  4097,  4274,  4400,\n",
       "        4598,  4657,  5042,  5950,  6512,  6553,  6959,  7443,  8156,\n",
       "        8257,  8447,  8660,  9250,  9380, 10018, 10175, 10895, 10913,\n",
       "       11252, 11802, 11881, 11924, 11964, 12009, 12193, 12458, 12465,\n",
       "       12763, 13030, 13187, 13797, 14225, 14450, 14770, 14843, 14906,\n",
       "       15577, 15596, 16386, 16778, 16813, 17279, 17549, 18492, 18838,\n",
       "       19002, 20086], dtype=int64),\n",
       "       array([   68,   110,   111,   130,   149,   232,   246,   273,   323,\n",
       "         336,   341,   432,   444,   485,   493,   596,   618,   633,\n",
       "         641,   650,   676,   688,   803,   806,   821,   867,   876,\n",
       "         992,  1031,  1048,  1054,  1066,  1089,  1178,  1188,  1250,\n",
       "        1288,  1310,  1361,  1376,  1407,  1432,  1472,  1483,  1612,\n",
       "        1617,  1625,  1642,  1769,  1799,  1818,  1834,  1851,  1892,\n",
       "        1893,  1983,  2016,  2126,  2177,  2179,  2199,  2241,  2245,\n",
       "        2271,  2328,  2491,  2520,  2530,  2711,  2874,  2916,  3030,\n",
       "        3050,  3118,  3140,  3146,  3209,  3210,  3242,  3282,  3300,\n",
       "        3314,  3315,  3325,  3336,  3362,  3367,  3449,  3492,  3495,\n",
       "        3498,  3523,  3533,  3546,  3579,  3628,  3634,  3705,  3734,\n",
       "        3741,  3792,  3798,  3818,  3819,  3823,  3920,  3984,  3989,\n",
       "        4006,  4014,  4046,  4064,  4153,  4488,  4503,  4570,  4704,\n",
       "        4712,  4765,  4855,  4871,  4884,  4892,  4895,  4937,  4968,\n",
       "        4978,  4987,  5048,  5072,  5087,  5114,  5126,  5142,  5166,\n",
       "        5241,  5257,  5289,  5307,  5329,  5345,  5369,  5382,  5390,\n",
       "        5419,  5445,  5459,  5547,  5610,  5661,  5672,  5760,  5768,\n",
       "        5780,  5788,  5792,  5883,  5900,  5932,  6017,  6105,  6164,\n",
       "        6318,  6349,  6376,  6456,  6472,  6576,  6610,  6635,  6657,\n",
       "        6688,  6689,  6726,  6740,  6753,  6836,  6841,  6850,  6868,\n",
       "        6890,  6893,  6908,  6920,  6970,  6979,  7006,  7048,  7117,\n",
       "        7152,  7172,  7174,  7203,  7230,  7273,  7536,  7599,  7654,\n",
       "        7733,  7738,  7764,  7784,  7859,  7930,  7954,  8132,  8139,\n",
       "        8142,  8144,  8346,  8487,  8499,  8512,  8529,  8530,  8539,\n",
       "        8578,  8604,  8622,  8670,  8700,  8719,  8806,  8907,  8945,\n",
       "        8968,  8984,  9003,  9072,  9109,  9159,  9165,  9171,  9249,\n",
       "        9346,  9374,  9376,  9450,  9645,  9682,  9691,  9695,  9790,\n",
       "        9793,  9830,  9847,  9890,  9898,  9912,  9931,  9955,  9980,\n",
       "       10066, 10099, 10125, 10133, 10190, 10213, 10217, 10290, 10383,\n",
       "       10410, 10415, 10417, 10431, 10509, 10527, 10539, 10572, 10651,\n",
       "       10689, 10715, 10726, 10877, 10878, 10903, 10935, 10936, 10937,\n",
       "       10994, 11062, 11289, 11291, 11387, 11455, 11477, 11588, 11665,\n",
       "       11703, 11730, 11797, 11800, 11825, 11946, 12022, 12063, 12068,\n",
       "       12102, 12142, 12292, 12302, 12382, 12389, 12403, 12446, 12501,\n",
       "       12513, 12530, 12534, 12618, 12658, 12665, 12668, 12714, 12744,\n",
       "       12757, 12790, 12826, 12873, 12887, 12933, 13002, 13003, 13032,\n",
       "       13035, 13083, 13092, 13238, 13262, 13274, 13330, 13332, 13333,\n",
       "       13354, 13468, 13575, 13592, 13633, 13634, 13666, 13677, 13692,\n",
       "       13708, 13782, 13783, 13815, 13851, 13866, 13957, 13983, 14040,\n",
       "       14068, 14129, 14143, 14230, 14323, 14384, 14573, 14587, 14610,\n",
       "       14678, 14685, 14691, 14718, 14736, 14785, 14842, 14844, 14909,\n",
       "       14959, 14982, 15030, 15036, 15043, 15070, 15155, 15234, 15236,\n",
       "       15269, 15289, 15317, 15383, 15410, 15526, 15616, 15643, 15692,\n",
       "       15765, 15803, 15943, 16013, 16018, 16024, 16065, 16143, 16189,\n",
       "       16284, 16330, 16370, 16392, 16454, 16555, 16557, 16589, 16608,\n",
       "       16725, 16729, 16733, 16806, 16818, 16918, 16928, 16942, 17014,\n",
       "       17055, 17135, 17138, 17141, 17172, 17173, 17218, 17291, 17321,\n",
       "       17329, 17427, 17433, 17463, 17466, 17479, 17540, 17579, 17581,\n",
       "       17645, 17656, 17721, 17752, 17757, 17771, 17806, 17832, 17841,\n",
       "       17856, 17865, 17969, 18057, 18075, 18110, 18126, 18163, 18192,\n",
       "       18199, 18239, 18307, 18460, 18504, 18514, 18558, 18613, 18658,\n",
       "       18669, 18673, 18714, 18755, 18762, 18775, 18873, 18887, 18969,\n",
       "       18993, 19026, 19148, 19190, 19382, 19452, 19456, 19535, 19621,\n",
       "       19625, 19662, 19717, 19727, 19731, 19844, 19875, 19894, 19947,\n",
       "       20013, 20021, 20034, 20046, 20136, 20198, 20239], dtype=int64),\n",
       "       array([    0,     4,     5, ..., 20221, 20235, 20236], dtype=int64)],\n",
       "      dtype=object)"
      ]
     },
     "execution_count": 38,
     "metadata": {},
     "output_type": "execute_result"
    }
   ],
   "source": [
    "import pickle\n",
    "with open('cluster_result_mean', 'rb') as f:\n",
    "     index1 = pickle.load(f)\n",
    "\n",
    "index1"
   ]
  },
  {
   "cell_type": "code",
   "execution_count": 41,
   "metadata": {
    "ExecuteTime": {
     "end_time": "2019-12-07T01:14:13.132823Z",
     "start_time": "2019-12-07T01:14:10.501674Z"
    }
   },
   "outputs": [
    {
     "name": "stdout",
     "output_type": "stream",
     "text": [
      "Select product index : 90\n",
      "The product is: Playmobil 4836 Dragon's Dungeon \n",
      "priced at:$ 25.34 \n",
      "It has a rating of: 4.6\n",
      "The product is found in cluster number: 1\n",
      "The products in this cluster have the following price and ratings structures\n",
      "           Price    Rating\n",
      "mean  25.460118  1.706136\n",
      "min   18.730000  0.000000\n",
      "max   78.490000  5.000000\n"
     ]
    }
   ],
   "source": [
    "ind = int(input(\"Select product index : \") )\n",
    "print(\"The product is:\",df.iloc[ind].Names,\"\\npriced at:$\",df.iloc[8371].Price,\"\\nIt has a rating of:\",df.iloc[8371].Rating)\n",
    "for i in range (5):\n",
    "    if ((np.asarray(np.where(index1[i]==ind)).size) >0):\n",
    "        print (\"The product is found in cluster number:\", (i+1) )\n",
    "        print(\"The products in this cluster have the following price and ratings structures\\n\", \n",
    "              df.iloc[index1[i]].describe().loc[['mean','min','max']])"
   ]
  },
  {
   "cell_type": "code",
   "execution_count": 32,
   "metadata": {
    "ExecuteTime": {
     "end_time": "2019-12-07T00:54:01.217469Z",
     "start_time": "2019-12-07T00:53:54.890823Z"
    }
   },
   "outputs": [
    {
     "data": {
      "image/png": "[encoded data removed]",
      "text/plain": [
       "<Figure size 576x504 with 1 Axes>"
      ]
     },
     "metadata": {},
     "output_type": "display_data"
    }
   ],
   "source": [
    "from jupyterthemes import jtplot\n",
    "jtplot.style(theme='onedork', context='notebook',\n",
    "             ticks=True, grid=False)\n",
    "sse_list = [] \n",
    "K = range(2,9) \n",
    "sse_list = []\n",
    "for i in K:\n",
    "    index = k_mean(X,i)\n",
    "    index1 = np.asarray(index)\n",
    "    for j in range(i):\n",
    "        index1[j] = np.unique(index1[j])\n",
    "    sse_list.append(sse_calc(df,index1))\n",
    "\n",
    "# sse = np.asarray(distortions)*100\n",
    "plt.plot(K, sse_list, 'bx-') \n",
    "plt.xlabel('Values of K') \n",
    "plt.ylabel('Sum of Squared Errors') \n",
    "plt.title('The Elbow Method for K-means') \n",
    "plt.show() "
   ]
  },
  {
   "cell_type": "code",
   "execution_count": 6,
   "metadata": {
    "ExecuteTime": {
     "end_time": "2019-12-07T04:55:14.758104Z",
     "start_time": "2019-12-07T04:54:22.990184Z"
    }
   },
   "outputs": [
    {
     "name": "stdout",
     "output_type": "stream",
     "text": [
      "For n_clusters = 2 The average silhouette_score is : 0.9283009424590033\n",
      "For n_clusters = 3 The average silhouette_score is : 0.8630892411546216\n",
      "For n_clusters = 4 The average silhouette_score is : 0.802889566957242\n",
      "For n_clusters = 5 The average silhouette_score is : 0.6483679916840436\n",
      "For n_clusters = 6 The average silhouette_score is : 0.6612937863389641\n",
      "For n_clusters = 7 The average silhouette_score is : 0.6775510983311468\n",
      "For n_clusters = 8 The average silhouette_score is : 0.6834968030706686\n"
     ]
    }
   ],
   "source": [
    "\n",
    "K = range(2,9) \n",
    "\n",
    "for i in K:\n",
    "    clusterer = KMeans(n_clusters=i, random_state=10)\n",
    "    cluster_labels = clusterer.fit_predict(X)\n",
    "\n",
    "    silhouette_avg = silhouette_score(X, cluster_labels)\n",
    "    print(\"For n_clusters =\", i,\n",
    "          \"The average silhouette_score is :\", silhouette_avg)\n"
   ]
  },
  {
   "cell_type": "code",
   "execution_count": 22,
   "metadata": {
    "ExecuteTime": {
     "end_time": "2019-12-01T04:53:06.604085Z",
     "start_time": "2019-12-01T04:53:06.487915Z"
    }
   },
   "outputs": [],
   "source": [
    "final_clustering_df.to_csv (r'C:\\Users\\akhil\\OneDrive - University of Oklahoma\\Subjects\\Data Mining\\Project\\final_clustering_df.csv', index = None, header=True) #Don't forget to add '.csv' at the end of the path"
   ]
  }
 ],
 "metadata": {
  "kernelspec": {
   "display_name": "Python 3",
   "language": "python",
   "name": "python3"
  },
  "language_info": {
   "codemirror_mode": {
    "name": "ipython",
    "version": 3
   },
   "file_extension": ".py",
   "mimetype": "text/x-python",
   "name": "python",
   "nbconvert_exporter": "python",
   "pygments_lexer": "ipython3",
   "version": "3.7.1"
  },
  "toc": {
   "base_numbering": 1,
   "nav_menu": {},
   "number_sections": true,
   "sideBar": true,
   "skip_h1_title": false,
   "title_cell": "Table of Contents",
   "title_sidebar": "Contents",
   "toc_cell": false,
   "toc_position": {},
   "toc_section_display": true,
   "toc_window_display": false
  },
  "varInspector": {
   "cols": {
    "lenName": 16,
    "lenType": 16,
    "lenVar": 40
   },
   "kernels_config": {
    "python": {
     "delete_cmd_postfix": "",
     "delete_cmd_prefix": "del ",
     "library": "var_list.py",
     "varRefreshCmd": "print(var_dic_list())"
    },
    "r": {
     "delete_cmd_postfix": ") ",
     "delete_cmd_prefix": "rm(",
     "library": "var_list.r",
     "varRefreshCmd": "cat(var_dic_list()) "
    }
   },
   "oldHeight": 285.383666,
   "position": {
    "height": "266.383px",
    "left": "358px",
    "right": "20px",
    "top": "138px",
    "width": "373.833px"
   },
   "types_to_exclude": [
    "module",
    "function",
    "builtin_function_or_method",
    "instance",
    "_Feature"
   ],
   "varInspector_section_display": "block",
   "window_display": false
  }
 },
 "nbformat": 4,
 "nbformat_minor": 2
}
