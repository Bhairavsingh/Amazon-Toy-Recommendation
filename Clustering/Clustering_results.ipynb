{
 "cells": [
  {
   "cell_type": "code",
   "execution_count": 1,
   "metadata": {
    "ExecuteTime": {
     "end_time": "2019-12-07T02:09:20.530896Z",
     "start_time": "2019-12-07T02:09:16.806624Z"
    }
   },
   "outputs": [],
   "source": [
    "import pandas as pd\n",
    "import numpy as np\n",
    "import nltk\n",
    "from nltk.tokenize import word_tokenize, sent_tokenize\n",
    "import gensim\n",
    "from gensim.utils import simple_preprocess\n",
    "from smart_open import smart_open\n",
    "# nltk.download('stopwords')  # run once\n",
    "from nltk.corpus import stopwords\n",
    "# stop_words = stopwords.words('english')\n",
    "from gensim import corpora\n",
    "from pprint import pprint\n",
    "# from jupyterthemes import jtplot\n",
    "# jtplot.style(theme='monokai', context='notebook',\n",
    "#              ticks=True, grid=False)\n",
    "import math\n",
    "from sklearn import datasets\n",
    "from sklearn.preprocessing import normalize\n",
    "import matplotlib.pyplot as plt\n",
    "\n",
    "import operator\n",
    "\n",
    "# jtplot.style(theme='monokai', context='notebook',\n",
    "#              ticks=True, grid=False)"
   ]
  },
  {
   "cell_type": "code",
   "execution_count": 2,
   "metadata": {
    "ExecuteTime": {
     "end_time": "2019-12-07T02:09:20.693630Z",
     "start_time": "2019-12-07T02:09:20.631147Z"
    }
   },
   "outputs": [],
   "source": [
    "df= pd.read_csv(\"final_clustering_df.csv\")\n",
    "X = np.asarray(df.iloc[:,[1,2]])"
   ]
  },
  {
   "cell_type": "code",
   "execution_count": 3,
   "metadata": {
    "ExecuteTime": {
     "end_time": "2019-12-07T02:09:20.740496Z",
     "start_time": "2019-12-07T02:09:20.724873Z"
    }
   },
   "outputs": [
    {
     "data": {
      "text/plain": [
       "array([array([    3,     6,     8, ..., 20231, 20234, 20240], dtype=int64),\n",
       "       array([    2,    22,    31, ..., 20232, 20233, 20237], dtype=int64),\n",
       "       array([    1,     7,    10, ..., 20238, 20239, 20241], dtype=int64),\n",
       "       array([    0,     4,     5, ..., 20221, 20222, 20226], dtype=int64)],\n",
       "      dtype=object)"
      ]
     },
     "execution_count": 3,
     "metadata": {},
     "output_type": "execute_result"
    }
   ],
   "source": [
    "import pickle\n",
    "with open('cluster_result_median', 'rb') as f:\n",
    "     index1 = pickle.load(f)\n",
    "\n",
    "index1"
   ]
  },
  {
   "cell_type": "code",
   "execution_count": 8,
   "metadata": {
    "ExecuteTime": {
     "end_time": "2019-12-07T02:11:05.235342Z",
     "start_time": "2019-12-07T02:11:05.219723Z"
    }
   },
   "outputs": [],
   "source": [
    "def euclidean_distance_word(dat, rand_medians,word_sim):\n",
    "    dist_list = []\n",
    "    for i in range(len(rand_medians)):\n",
    "        summation = np.sum((X-rand_medians[i])**2, axis=1)\n",
    "        summation = normalize(summation.reshape(-1,1))\n",
    "        summation = summation + (1-word_sim).reshape(-1,1)\n",
    "#         summation = word_sim\n",
    "        dist_list.append(np.sqrt(summation))\n",
    "    dist_list = np.asarray(dist_list)\n",
    "    return (dist_list)\n",
    "\n",
    "def word_sim_calc(df,item):\n",
    "    df = df\n",
    "    file_docs = []\n",
    "    for i in range(len(df)):\n",
    "        tokens = sent_tokenize(df['Names'][i])\n",
    "        file_docs.append(tokens)\n",
    "    mydict = corpora.Dictionary([simple_preprocess((\" \".join(line))) for line in file_docs])\n",
    "    corpus = [mydict.doc2bow(simple_preprocess((\" \".join(line)))) for line in file_docs]\n",
    "    tfidf = gensim.models.TfidfModel(corpus)\n",
    "    workdir = r'C:\\Users\\akhil\\OneDrive - University of Oklahoma\\Subjects\\Data Mining\\Project\\ '\n",
    "    sims = gensim.similarities.Similarity(workdir,tfidf[corpus],num_features=len(mydict))\n",
    "    query_doc_tf_idf = tfidf[corpus[item]]\n",
    "    word_sim = sims[query_doc_tf_idf]\n",
    "    return (word_sim)\\\n",
    "\n",
    "def similar_prod(item,no_item,data):\n",
    "    user = []\n",
    "    X = np.asarray(data.iloc[:,[1,2]])\n",
    "    user.append(X[item])\n",
    "    wordsim = word_sim_calc(data,item)\n",
    "    dist_array = euclidean_distance_word(X,user,wordsim)\n",
    "    dict = { i : dist_array[:,i] for i in range(0, dist_array.shape[1] ) }\n",
    "    sorted_dict = sorted(dict.items(), key=operator.itemgetter(1))\n",
    "    similar_prod_index = sorted_dict[0:(no_item+1)]\n",
    "    result = df.iloc[np.asarray(similar_prod_index)[:,0]]\n",
    "    name = result['Names'].tolist()\n",
    "    price = result['Price'].tolist()\n",
    "    rating = result['Rating'].tolist()\n",
    "    return name,price,rating"
   ]
  },
  {
   "cell_type": "code",
   "execution_count": 13,
   "metadata": {
    "ExecuteTime": {
     "end_time": "2019-12-07T02:17:07.003601Z",
     "start_time": "2019-12-07T02:16:37.185872Z"
    }
   },
   "outputs": [
    {
     "name": "stdout",
     "output_type": "stream",
     "text": [
      "Select product index : 16699\n",
      "Select no of similar products : 3\n"
     ]
    },
    {
     "data": {
      "text/plain": [
       "(['Dungeons &amp; Dragons Starter Kit: 1',\n",
       "  'SmartDealsPro 8 x 7-Die Series 8 Colors Sparkle Dungeons and Dragons DND RPG MTG Table Games Dice',\n",
       "  \"Magic The Gathering Origins Deck Builder's Tool Kit\",\n",
       "  'WHATWEARS Sd Die D4 D6 D8 D10 D12 D20 MTG RPG D&amp;D DND Poly Dices Pearl Purple 7pcs'],\n",
       " [25.34, 25.34, 25.34, 25.34],\n",
       " [4.7, 4.7, 4.7, 4.7])"
      ]
     },
     "execution_count": 13,
     "metadata": {},
     "output_type": "execute_result"
    }
   ],
   "source": [
    "ind = int(input(\"Select product index : \") )\n",
    "num = int(input(\"Select no of similar products : \") )\n",
    "similar_prod(ind,num,df)\n",
    "\n",
    "# for i in range (4):\n",
    "#     if ((np.asarray(np.where(index1[i]==ind)).size) >0):\n",
    "#         print (\"The product is found in cluster number:\", (i+1) )\n",
    "#         print(\"The products in this cluster have the following price and ratings structures\\n\", \n",
    "#               df.iloc[index1[i]].describe().loc[['mean','min','max']])\n",
    "#     df2 = df.iloc[index1[i]]"
   ]
  },
  {
   "cell_type": "code",
   "execution_count": 55,
   "metadata": {
    "ExecuteTime": {
     "end_time": "2019-12-07T01:55:28.219943Z",
     "start_time": "2019-12-07T01:55:28.188922Z"
    }
   },
   "outputs": [],
   "source": [
    "def clustering_res_median(ind):\n",
    "    for i in range (4):\n",
    "        if ((np.asarray(np.where(index1[i]==ind)).size) >0):\n",
    "            clust_num = (i+1)\n",
    "#             print (\"The product is found in cluster number:\",clust_num  )\n",
    "            pmean = df[\"Price\"].iloc[index1[i]].describe().loc[['mean']].values\n",
    "            pmax = df[\"Price\"].iloc[index1[i]].describe().loc[['max']].astype(int).values\n",
    "            pmin = df[\"Price\"].iloc[index1[i]].describe().loc[['min']].astype(int).values\n",
    "            rmean = df[\"Rating\"].iloc[index1[i]].describe().loc[['mean']].astype(int).values\n",
    "            rmax = df[\"Rating\"].iloc[index1[i]].describe().loc[['max']].astype(int).values\n",
    "            rmin = df[\"Rating\"].iloc[index1[i]].describe().loc[['min']].astype(int).values\n",
    "            return (pmean,pmax,pmin,rmean,rmax,rmin)"
   ]
  },
  {
   "cell_type": "code",
   "execution_count": 26,
   "metadata": {
    "ExecuteTime": {
     "end_time": "2019-12-07T01:49:16.375233Z",
     "start_time": "2019-12-07T01:49:16.359609Z"
    }
   },
   "outputs": [
    {
     "ename": "NameError",
     "evalue": "name 'pmean' is not defined",
     "output_type": "error",
     "traceback": [
      "\u001b[1;31m---------------------------------------------------------------------------\u001b[0m",
      "\u001b[1;31mNameError\u001b[0m                                 Traceback (most recent call last)",
      "\u001b[1;32m<ipython-input-26-3a668a099e06>\u001b[0m in \u001b[0;36m<module>\u001b[1;34m\u001b[0m\n\u001b[1;32m----> 1\u001b[1;33m \u001b[0mpmean\u001b[0m\u001b[1;33m\u001b[0m\u001b[1;33m\u001b[0m\u001b[0m\n\u001b[0m",
      "\u001b[1;31mNameError\u001b[0m: name 'pmean' is not defined"
     ]
    }
   ],
   "source": [
    "pmean"
   ]
  },
  {
   "cell_type": "code",
   "execution_count": 36,
   "metadata": {
    "ExecuteTime": {
     "end_time": "2019-12-07T01:50:58.280900Z",
     "start_time": "2019-12-07T01:50:58.265279Z"
    }
   },
   "outputs": [
    {
     "data": {
      "text/plain": [
       "mean    4.227291\n",
       "Name: Rating, dtype: float64"
      ]
     },
     "execution_count": 36,
     "metadata": {},
     "output_type": "execute_result"
    }
   ],
   "source": [
    "df[\"Rating\"].iloc[index1[2]].describe().loc[['mean']]"
   ]
  },
  {
   "cell_type": "code",
   "execution_count": 21,
   "metadata": {
    "ExecuteTime": {
     "end_time": "2019-12-07T01:45:31.071273Z",
     "start_time": "2019-12-07T01:45:31.040029Z"
    }
   },
   "outputs": [],
   "source": [
    "att_list = [\"Price\",\"Rating\"]\n",
    "var_list = ['pmean','pmax','pmin','rmean','rmax','rmin']"
   ]
  }
 ],
 "metadata": {
  "kernelspec": {
   "display_name": "Python 3",
   "language": "python",
   "name": "python3"
  },
  "language_info": {
   "codemirror_mode": {
    "name": "ipython",
    "version": 3
   },
   "file_extension": ".py",
   "mimetype": "text/x-python",
   "name": "python",
   "nbconvert_exporter": "python",
   "pygments_lexer": "ipython3",
   "version": "3.7.1"
  },
  "toc": {
   "base_numbering": 1,
   "nav_menu": {},
   "number_sections": true,
   "sideBar": true,
   "skip_h1_title": false,
   "title_cell": "Table of Contents",
   "title_sidebar": "Contents",
   "toc_cell": false,
   "toc_position": {},
   "toc_section_display": true,
   "toc_window_display": false
  },
  "varInspector": {
   "cols": {
    "lenName": 16,
    "lenType": 16,
    "lenVar": 40
   },
   "kernels_config": {
    "python": {
     "delete_cmd_postfix": "",
     "delete_cmd_prefix": "del ",
     "library": "var_list.py",
     "varRefreshCmd": "print(var_dic_list())"
    },
    "r": {
     "delete_cmd_postfix": ") ",
     "delete_cmd_prefix": "rm(",
     "library": "var_list.r",
     "varRefreshCmd": "cat(var_dic_list()) "
    }
   },
   "types_to_exclude": [
    "module",
    "function",
    "builtin_function_or_method",
    "instance",
    "_Feature"
   ],
   "window_display": false
  }
 },
 "nbformat": 4,
 "nbformat_minor": 2
}
