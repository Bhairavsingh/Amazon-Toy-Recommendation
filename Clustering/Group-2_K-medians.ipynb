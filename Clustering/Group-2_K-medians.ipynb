{
 "cells": [
  {
   "cell_type": "code",
   "execution_count": 4,
   "metadata": {
    "ExecuteTime": {
     "end_time": "2019-12-07T04:24:40.720990Z",
     "start_time": "2019-12-07T04:24:38.334500Z"
    }
   },
   "outputs": [],
   "source": [
    "import nltk\n",
    "from nltk.tokenize import word_tokenize, sent_tokenize\n",
    "import gensim\n",
    "from gensim.utils import simple_preprocess\n",
    "from smart_open import smart_open\n",
    "# nltk.download('stopwords')  # run once\n",
    "from nltk.corpus import stopwords\n",
    "# stop_words = stopwords.words('english')\n",
    "from gensim import corpora\n",
    "from pprint import pprint\n",
    "from pyclustering.cluster.kmedians import kmedians\n",
    "from pyclustering.cluster import cluster_visualizer\n",
    "from pyclustering.utils import read_sample\n",
    "from pyclustering.samples.definitions import FCPS_SAMPLES\n",
    "# from jupyterthemes import jtplot\n",
    "# jtplot.style(theme='monokai', context='notebook',\n",
    "#              ticks=True, grid=False)\n",
    "import math\n",
    "import numpy as np\n",
    "from sklearn import datasets\n",
    "from sklearn.preprocessing import normalize\n",
    "import matplotlib.pyplot as plt\n",
    "import seaborn as sns\n",
    "# from jupyterthemes import jtplot\n",
    "import operator\n",
    "import pandas as pd\n",
    "# nltk.download('punkt')\n",
    "# jtplot.style(theme='monokai', context='notebook',\n",
    "#              ticks=True, grid=False)\n",
    "from sklearn.cluster import KMeans\n",
    "from sklearn.metrics import silhouette_samples, silhouette_score\n",
    "\n",
    "import matplotlib.pyplot as plt\n",
    "import matplotlib.cm as cm\n",
    "import numpy as np"
   ]
  },
  {
   "cell_type": "code",
   "execution_count": 5,
   "metadata": {
    "ExecuteTime": {
     "end_time": "2019-12-07T04:24:40.805795Z",
     "start_time": "2019-12-07T04:24:40.745927Z"
    }
   },
   "outputs": [],
   "source": [
    "df= pd.read_csv(\"final_clustering_df.csv\")\n",
    "X = np.asarray(df.iloc[:,[1,2]])"
   ]
  },
  {
   "cell_type": "code",
   "execution_count": 186,
   "metadata": {
    "ExecuteTime": {
     "end_time": "2019-12-07T00:33:59.605514Z",
     "start_time": "2019-12-07T00:33:59.558649Z"
    }
   },
   "outputs": [],
   "source": [
    "def random_medians(dat, num_clusters):    #Function to generate random medians\n",
    "    index = np.random.randint(0, (len(dat)-1), size=num_clusters)\n",
    "    points = dat[index]\n",
    "    return points\n",
    "\n",
    "def euclidean_distance(dat, rand_medians):  #Used to calculate a euclidean distance between the medians and the observations \n",
    "    X = dat\n",
    "    dist_list = []\n",
    "    for i in range(len(rand_medians)):\n",
    "        summation = np.sum((X-rand_medians[i])**2, axis=1)\n",
    "        dist_list.append(np.sqrt(summation))\n",
    "    dist_list = np.asarray(dist_list)\n",
    "    return (dist_list)\n",
    "\n",
    "def euclidean_distance_word(dat, rand_medians,word_sim): #used to calculate euclidean distance + similarity between observations \n",
    "    dist_list = []\n",
    "    for i in range(len(rand_medians)):\n",
    "        summation = np.sum((X-rand_medians[i])**2, axis=1)\n",
    "        summation = normalize(summation.reshape(-1,1)) #euclidean distance is normalized to help converge with the word similarity score\n",
    "        summation = summation + (1-word_sim).reshape(-1,1) #1-similarity is done to make the similarity matrix into a ditance matrix\n",
    "#         summation = word_sim\n",
    "        dist_list.append(np.sqrt(summation))\n",
    "    dist_list = np.asarray(dist_list)\n",
    "    return (dist_list)\n",
    "\n",
    "def assign_obsto_clusters(dat, dist_list): #compares observations and identifies which cluster is it closest to\n",
    "    clusters = []\n",
    "    assigned_clusters = np.argmin(dist_list, axis=0)\n",
    "    for i in range(len(dist_list)):\n",
    "        clusters.append(dat[assigned_clusters == i])\n",
    "#     clusters = np.asarray(clusters)\n",
    "    return (clusters)\n",
    "\n",
    "def centroid_cal(assigned_clusters): #centroid calculation\n",
    "    centroid = []\n",
    "    for i in range(len(assigned_clusters)):\n",
    "        clust= assigned_clusters[i]\n",
    "        x,y = np.median(clust,axis=0)\n",
    "        centroid.append((x,y))\n",
    "    centroid = np.asarray(centroid)\n",
    "    return (centroid)\n",
    "\n",
    "def clust_index_find (assigned_clusters,data): #indexes retrieval of observations in the cluster\n",
    "    clust_index=[]\n",
    "    X = data\n",
    "    for i in range(len(assigned_clusters)):\n",
    "        values = np.where((X==assigned_clusters[i][:,None]).all(-1))[1]\n",
    "        clust_index.append(values)\n",
    "    return (clust_index)\n",
    "        \n",
    "def plot_clusters(assigned_clusters,centroid_old):\n",
    "    color = ['b', 'g', 'r', 'c', 'm', 'y', 'k', 'w']\n",
    "    for i in range(len(assigned_clusters)):\n",
    "        clust = assigned_clusters[i]\n",
    "        plt.scatter(clust[:,0],clust[:,1],color=RS[i])\n",
    "        plt.scatter(centroid_old[i,0],centroid_old[i,1],color=color[i],\n",
    "                    label=i, marker='p', s=100, edgecolor='k')\n",
    "    plt.show()\n",
    "\n",
    "def sse_calc(data,indexes): #calculation of Total SSE\n",
    "    df = data\n",
    "    index1 = indexes\n",
    "    index_list = []\n",
    "    for i in range(len(index1)):\n",
    "        index_list.append(np.asarray(df.iloc[index1[i],[1,2]]))\n",
    "    centers = centroid_cal(index_list)\n",
    "    sse_list=[]\n",
    "    for i in range(len(index1)):\n",
    "        sse_list.append(np.sum(np.sum((centers[i]-index_list[i])**2,axis=1)))\n",
    "    return (np.sum(sse_list))\n",
    "\n",
    "\n",
    "def k_median(data,nc): #compilation of K-median\n",
    "    X=data\n",
    "    rand_medians = random_medians(X,num_clusters=nc)\n",
    "    centroid_old = rand_medians\n",
    "    dist_array = euclidean_distance(X,rand_medians)\n",
    "    assigned_clusters = assign_obsto_clusters(X,dist_array)\n",
    "    clust_index = clust_index_find(assigned_clusters,X)\n",
    "    centroids = centroid_cal(assigned_clusters)\n",
    "    i=1\n",
    "    while(np.any(centroid_old != centroids)):\n",
    "        centroid_old = centroids\n",
    "        dist_array = euclidean_distance(X,centroid_old)\n",
    "        assigned_clusters = assign_obsto_clusters(X,dist_array)\n",
    "        clust_index = clust_index_find(assigned_clusters,X)\n",
    "        centroids = centroid_cal(assigned_clusters)\n",
    "        i=i+1        \n",
    "#         print (\"old=\",centroid_old ,\"new=\",centroids)\n",
    "    return (clust_index)\n",
    "\n",
    "def similar_prod(item,no_item,data): #gives results for similar products for the requested product from the clusters\n",
    "    user = []\n",
    "    X = np.asarray(data.iloc[:,[1,2]])\n",
    "    user.append(X[item])\n",
    "    wordsim = word_sim_calc(data,item)\n",
    "    dist_array = euclidean_distance_word(X,user,wordsim)\n",
    "    dict = { i : dist_array[:,i] for i in range(0, dist_array.shape[1] ) }\n",
    "    sorted_dict = sorted(dict.items(), key=operator.itemgetter(1))\n",
    "    similar_prod_index = sorted_dict[0:(no_item+1)]\n",
    "    return (df.iloc[np.asarray(similar_prod_index)[:,0]])"
   ]
  },
  {
   "cell_type": "code",
   "execution_count": 4,
   "metadata": {
    "ExecuteTime": {
     "end_time": "2019-12-06T20:56:08.843643Z",
     "start_time": "2019-12-06T20:56:08.828023Z"
    }
   },
   "outputs": [],
   "source": [
    "def word_sim_calc(df,item): # calculation of word vectors\n",
    "    file_docs = []\n",
    "    for i in range(len(df)):\n",
    "        tokens = sent_tokenize(df['Names'][i])\n",
    "        file_docs.append(tokens)\n",
    "    mydict = corpora.Dictionary([simple_preprocess((\" \".join(line))) for line in file_docs]) #making dictionary from the document\n",
    "    corpus = [mydict.doc2bow(simple_preprocess((\" \".join(line)))) for line in file_docs]\n",
    "    tfidf = gensim.models.TfidfModel(corpus) #generation of TFIDF vector\n",
    "\n",
    "    workdir = r'C:\\Users\\potd0000\\\\OneDrive - University of Oklahoma\\Subjects\\Data Mining\\Project\\ '\n",
    "    sims = gensim.similarities.Similarity(workdir,tfidf[corpus],num_features=len(mydict)) #word similarity matrix\n",
    "    query_doc_tf_idf = tfidf[corpus[item]]\n",
    "\n",
    "    word_sim = sims[query_doc_tf_idf] \n",
    "    return (word_sim)"
   ]
  },
  {
   "cell_type": "code",
   "execution_count": 14,
   "metadata": {
    "ExecuteTime": {
     "end_time": "2019-12-04T22:03:25.350954Z",
     "start_time": "2019-12-04T22:03:14.592545Z"
    },
    "scrolled": true
   },
   "outputs": [
    {
     "name": "stdout",
     "output_type": "stream",
     "text": [
      "Select product index : 52\n",
      "Select no of similar products : 5\n"
     ]
    },
    {
     "data": {
      "text/html": [
       "<div>\n",
       "<style scoped>\n",
       "    .dataframe tbody tr th:only-of-type {\n",
       "        vertical-align: middle;\n",
       "    }\n",
       "\n",
       "    .dataframe tbody tr th {\n",
       "        vertical-align: top;\n",
       "    }\n",
       "\n",
       "    .dataframe thead th {\n",
       "        text-align: right;\n",
       "    }\n",
       "</style>\n",
       "<table border=\"1\" class=\"dataframe\">\n",
       "  <thead>\n",
       "    <tr style=\"text-align: right;\">\n",
       "      <th></th>\n",
       "      <th>Names</th>\n",
       "      <th>Price</th>\n",
       "      <th>Rating</th>\n",
       "    </tr>\n",
       "  </thead>\n",
       "  <tbody>\n",
       "    <tr>\n",
       "      <td>52</td>\n",
       "      <td>Spider-Man Colouring Fun</td>\n",
       "      <td>21.741747</td>\n",
       "      <td>0.0</td>\n",
       "    </tr>\n",
       "    <tr>\n",
       "      <td>2947</td>\n",
       "      <td>LEGO Juniors 10665: Spider-Man Spider-Car Pursuit</td>\n",
       "      <td>21.741747</td>\n",
       "      <td>0.0</td>\n",
       "    </tr>\n",
       "    <tr>\n",
       "      <td>19092</td>\n",
       "      <td>Nendoroid - The Amazing Spider-Man: Spider-Man...</td>\n",
       "      <td>21.741747</td>\n",
       "      <td>0.0</td>\n",
       "    </tr>\n",
       "    <tr>\n",
       "      <td>8241</td>\n",
       "      <td>Hot Wheels Amazing Spider-Man 2 Diecast Car - ...</td>\n",
       "      <td>21.741747</td>\n",
       "      <td>0.0</td>\n",
       "    </tr>\n",
       "    <tr>\n",
       "      <td>1022</td>\n",
       "      <td>Hot Wheels Amazing Spider-Man 2 Diecast Car - ...</td>\n",
       "      <td>21.741747</td>\n",
       "      <td>0.0</td>\n",
       "    </tr>\n",
       "    <tr>\n",
       "      <td>16955</td>\n",
       "      <td>Procos 81531- \"Happy Birthday\" Ultimate Spider...</td>\n",
       "      <td>21.741747</td>\n",
       "      <td>0.0</td>\n",
       "    </tr>\n",
       "  </tbody>\n",
       "</table>\n",
       "</div>"
      ],
      "text/plain": [
       "                                                   Names      Price  Rating\n",
       "52                              Spider-Man Colouring Fun  21.741747     0.0\n",
       "2947   LEGO Juniors 10665: Spider-Man Spider-Car Pursuit  21.741747     0.0\n",
       "19092  Nendoroid - The Amazing Spider-Man: Spider-Man...  21.741747     0.0\n",
       "8241   Hot Wheels Amazing Spider-Man 2 Diecast Car - ...  21.741747     0.0\n",
       "1022   Hot Wheels Amazing Spider-Man 2 Diecast Car - ...  21.741747     0.0\n",
       "16955  Procos 81531- \"Happy Birthday\" Ultimate Spider...  21.741747     0.0"
      ]
     },
     "execution_count": 14,
     "metadata": {},
     "output_type": "execute_result"
    }
   ],
   "source": [
    "ind = int(input(\"Select product index : \") )\n",
    "num = int(input(\"Select no of similar products : \") )\n",
    "result = similar_prod(ind,num,df)\n",
    "result"
   ]
  },
  {
   "cell_type": "code",
   "execution_count": 188,
   "metadata": {
    "ExecuteTime": {
     "end_time": "2019-12-07T00:36:15.923986Z",
     "start_time": "2019-12-07T00:36:15.893037Z"
    },
    "scrolled": true
   },
   "outputs": [
    {
     "data": {
      "text/plain": [
       "array([array([    3,     6,     8, ..., 20231, 20234, 20240], dtype=int64),\n",
       "       array([    2,    22,    31, ..., 20232, 20233, 20237], dtype=int64),\n",
       "       array([    1,     7,    10, ..., 20238, 20239, 20241], dtype=int64),\n",
       "       array([    0,     4,     5, ..., 20221, 20222, 20226], dtype=int64)],\n",
       "      dtype=object)"
      ]
     },
     "execution_count": 188,
     "metadata": {},
     "output_type": "execute_result"
    }
   ],
   "source": [
    "# X2 = X[0:20000,:]\n",
    "index = k_median(X,4)\n",
    "index1 = np.asarray(index)\n",
    "for i in range(4):\n",
    "    index1[i] = np.unique(index1[i])\n",
    "index1"
   ]
  },
  {
   "cell_type": "code",
   "execution_count": 197,
   "metadata": {
    "ExecuteTime": {
     "end_time": "2019-12-07T01:23:38.043680Z",
     "start_time": "2019-12-07T01:23:34.576004Z"
    }
   },
   "outputs": [
    {
     "name": "stdout",
     "output_type": "stream",
     "text": [
      "Select product index : 55\n",
      "The product is: Inkwear Swooping Swallows Temp Tattoo. *Premium Quality Die Cut Transfers* \n",
      "priced at:$ 21.74174707892781 \n",
      "It has a rating of: 0.0\n",
      "The product is found in cluster number: 1\n",
      "The products in this cluster have the following price and ratings structures\n",
      "            Price    Rating\n",
      "mean   24.840035  0.021251\n",
      "min    15.360000  0.000000\n",
      "max   902.000000  2.100000\n"
     ]
    }
   ],
   "source": [
    "ind = int(input(\"Select product index : \") )\n",
    "print(\"The product is:\",df.iloc[ind].Names,\"\\npriced at:$\",df.iloc[ind].Price,\"\\nIt has a rating of:\",df.iloc[ind].Rating)\n",
    "for i in range (4):\n",
    "    if ((np.asarray(np.where(index1[i]==ind)).size) >0):\n",
    "        print (\"The product is found in cluster number:\", (i+1) )\n",
    "        print(\"The products in this cluster have the following price and ratings structures\\n\", \n",
    "              df.iloc[index1[i]].describe().loc[['mean','min','max']])"
   ]
  },
  {
   "cell_type": "code",
   "execution_count": 190,
   "metadata": {
    "ExecuteTime": {
     "end_time": "2019-12-07T00:36:37.630265Z",
     "start_time": "2019-12-07T00:36:37.614593Z"
    }
   },
   "outputs": [],
   "source": [
    "import pickle\n",
    "with open('cluster_result_median', 'wb') as f:\n",
    "    pickle.dump(index1, f)"
   ]
  },
  {
   "cell_type": "code",
   "execution_count": 191,
   "metadata": {
    "ExecuteTime": {
     "end_time": "2019-12-07T00:36:38.301971Z",
     "start_time": "2019-12-07T00:36:38.270917Z"
    }
   },
   "outputs": [
    {
     "data": {
      "text/plain": [
       "array([array([    3,     6,     8, ..., 20231, 20234, 20240], dtype=int64),\n",
       "       array([    2,    22,    31, ..., 20232, 20233, 20237], dtype=int64),\n",
       "       array([    1,     7,    10, ..., 20238, 20239, 20241], dtype=int64),\n",
       "       array([    0,     4,     5, ..., 20221, 20222, 20226], dtype=int64)],\n",
       "      dtype=object)"
      ]
     },
     "execution_count": 191,
     "metadata": {},
     "output_type": "execute_result"
    }
   ],
   "source": [
    "import pickle\n",
    "with open('cluster_result_median', 'rb') as f:\n",
    "     index1 = pickle.load(f)\n",
    "\n",
    "index1"
   ]
  },
  {
   "cell_type": "code",
   "execution_count": 183,
   "metadata": {
    "ExecuteTime": {
     "end_time": "2019-12-06T23:47:09.818622Z",
     "start_time": "2019-12-06T23:47:06.866243Z"
    }
   },
   "outputs": [
    {
     "data": {
      "image/png": "[encoded data removed]",
      "text/plain": [
       "<Figure size 432x288 with 1 Axes>"
      ]
     },
     "metadata": {
      "needs_background": "light"
     },
     "output_type": "display_data"
    }
   ],
   "source": [
    "sse_list = []\n",
    "for i in range(2,9):\n",
    "    index = k_median(X,i)\n",
    "    index1 = np.asarray(index)\n",
    "    for j in range(i):\n",
    "        index1[j] = np.unique(index1[j])\n",
    "    sse_list.append(sse_calc(df,index1))\n",
    "K=range(2,9)\n",
    "plt.plot(K, sse_list, 'bx-') \n",
    "plt.xlabel('Values of K') \n",
    "plt.ylabel('Sum of Squared Errors') \n",
    "plt.title('The Elbow Method using K-medians') \n",
    "plt.show() "
   ]
  },
  {
   "cell_type": "code",
   "execution_count": 184,
   "metadata": {
    "ExecuteTime": {
     "end_time": "2019-12-06T23:52:42.360515Z",
     "start_time": "2019-12-06T23:52:42.204263Z"
    }
   },
   "outputs": [
    {
     "data": {
      "image/png": "[encoded data removed]",
      "text/plain": [
       "<Figure size 576x504 with 1 Axes>"
      ]
     },
     "metadata": {},
     "output_type": "display_data"
    }
   ],
   "source": [
    "from jupyterthemes import jtplot\n",
    "jtplot.style(theme='onedork', context='notebook',\n",
    "             ticks=True, grid=False)\n",
    "plt.plot(K, sse_list, 'bx-') \n",
    "plt.xlabel('Values of K') \n",
    "plt.ylabel('Sum of Squared Errors') \n",
    "plt.title('The Elbow Method using K-medians') \n",
    "plt.show() "
   ]
  },
  {
   "cell_type": "code",
   "execution_count": 185,
   "metadata": {
    "ExecuteTime": {
     "end_time": "2019-12-06T23:56:59.785462Z",
     "start_time": "2019-12-06T23:56:52.864196Z"
    }
   },
   "outputs": [
    {
     "data": {
      "image/png": "[encoded data removed]",
      "text/plain": [
       "<Figure size 576x504 with 1 Axes>"
      ]
     },
     "metadata": {},
     "output_type": "display_data"
    }
   ],
   "source": [
    "# create new plot and data\n",
    "from sklearn.cluster import KMeans\n",
    "from sklearn import metrics\n",
    "from scipy.spatial.distance import cdist\n",
    "import numpy as np\n",
    "import matplotlib.pyplot as plt\n",
    "from jupyterthemes import jtplot\n",
    "jtplot.style(theme='onedork', context='notebook',\n",
    "             ticks=True, grid=False)\n",
    "plt.plot()\n",
    "colors = ['b', 'g', 'r']\n",
    "markers = ['o', 'v', 's']\n",
    "\n",
    "# k means determine k\n",
    "sse = []\n",
    "K = range(1,10)\n",
    "for k in K:\n",
    "    kmeanModel = KMeans(n_clusters=k).fit(X)\n",
    "    kmeanModel.fit(X)\n",
    "    sse.append(sum(np.min(cdist(X, kmeanModel.cluster_centers_, 'euclidean'), axis=1)) / X.shape[0])\n",
    "\n",
    "# Plot the elbow\n",
    "plt.plot(K, sse, 'bx-')\n",
    "plt.xlabel('k')\n",
    "plt.ylabel('SSE')\n",
    "plt.title('The Elbow Method showing the optimal k')\n",
    "plt.show()"
   ]
  },
  {
   "cell_type": "code",
   "execution_count": 22,
   "metadata": {
    "ExecuteTime": {
     "end_time": "2019-12-01T04:53:06.604085Z",
     "start_time": "2019-12-01T04:53:06.487915Z"
    }
   },
   "outputs": [],
   "source": [
    "final_clustering_df.to_csv (r'C:\\Users\\akhil\\OneDrive - University of Oklahoma\\Subjects\\Data Mining\\Project\\final_clustering_df.csv', index = None, header=True) #Don't forget to add '.csv' at the end of the path"
   ]
  }
 ],
 "metadata": {
  "kernelspec": {
   "display_name": "Python 3",
   "language": "python",
   "name": "python3"
  },
  "language_info": {
   "codemirror_mode": {
    "name": "ipython",
    "version": 3
   },
   "file_extension": ".py",
   "mimetype": "text/x-python",
   "name": "python",
   "nbconvert_exporter": "python",
   "pygments_lexer": "ipython3",
   "version": "3.7.1"
  },
  "toc": {
   "base_numbering": 1,
   "nav_menu": {},
   "number_sections": true,
   "sideBar": true,
   "skip_h1_title": false,
   "title_cell": "Table of Contents",
   "title_sidebar": "Contents",
   "toc_cell": false,
   "toc_position": {},
   "toc_section_display": true,
   "toc_window_display": false
  },
  "varInspector": {
   "cols": {
    "lenName": 16,
    "lenType": 16,
    "lenVar": 40
   },
   "kernels_config": {
    "python": {
     "delete_cmd_postfix": "",
     "delete_cmd_prefix": "del ",
     "library": "var_list.py",
     "varRefreshCmd": "print(var_dic_list())"
    },
    "r": {
     "delete_cmd_postfix": ") ",
     "delete_cmd_prefix": "rm(",
     "library": "var_list.r",
     "varRefreshCmd": "cat(var_dic_list()) "
    }
   },
   "oldHeight": 285.383666,
   "position": {
    "height": "266.383px",
    "left": "358px",
    "right": "20px",
    "top": "138px",
    "width": "373.833px"
   },
   "types_to_exclude": [
    "module",
    "function",
    "builtin_function_or_method",
    "instance",
    "_Feature"
   ],
   "varInspector_section_display": "block",
   "window_display": false
  }
 },
 "nbformat": 4,
 "nbformat_minor": 2
}
